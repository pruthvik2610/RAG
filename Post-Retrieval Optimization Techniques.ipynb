{
 "cells": [
  {
   "cell_type": "markdown",
   "id": "659f6d5a-eb03-4846-aa5d-b353fa0d1a89",
   "metadata": {},
   "source": [
    "# Post-Retrieval Optimization:"
   ]
  },
  {
   "cell_type": "markdown",
   "id": "825eb806-a17a-4196-9a9f-1e728684bf53",
   "metadata": {},
   "source": [
    "## Re-ranking with LLM"
   ]
  },
  {
   "cell_type": "code",
   "execution_count": null,
   "id": "8b6d5451-2731-4793-a1b2-e17d6fc335bb",
   "metadata": {},
   "outputs": [],
   "source": [
    "from langchain.llms import OpenAI\n",
    "from langchain.vectorstores import FAISS\n",
    "from langchain.embeddings import OpenAIEmbeddings\n",
    "from langchain.schema import Document\n",
    "\n",
    "# Assume documents retrieved from FAISS\n",
    "retrieved_docs: list[Document] = vectorstore.similarity_search(query, k=10)\n",
    "\n",
    "# Re-ranking function using LLM\n",
    "def rerank_with_llm(query: str, docs: list[Document], llm) -> list[Document]:\n",
    "    ranked_docs = []\n",
    "    for doc in docs:\n",
    "        prompt = f\"Query: {query}\\n\\nDocument: {doc.page_content}\\n\\nHow relevant is this document to the query (score 0-10)?\"\n",
    "        score = float(llm(prompt))\n",
    "        ranked_docs.append((doc, score))\n",
    "    ranked_docs.sort(key=lambda x: x[1], reverse=True)\n",
    "    return [doc for doc, _ in ranked_docs]\n",
    "\n",
    "llm = OpenAI(temperature=0)\n",
    "reranked_docs = rerank_with_llm(query, retrieved_docs, llm)\n"
   ]
  },
  {
   "cell_type": "markdown",
   "id": "f58f72d6-b136-483d-a786-4db18d055dc9",
   "metadata": {},
   "source": [
    "## Contextual Compression (LLM-based summarization)"
   ]
  },
  {
   "cell_type": "code",
   "execution_count": null,
   "id": "bf1f1352-322d-4b78-a4a7-9527102e6fb9",
   "metadata": {},
   "outputs": [],
   "source": [
    "# Compress/summarize documents using LLM to fit within token limits\n",
    "def compress_docs_with_llm(docs: list[Document], llm) -> str:\n",
    "    summaries = []\n",
    "    for doc in docs:\n",
    "        prompt = f\"Summarize the key points from the following:\\n\\n{doc.page_content}\"\n",
    "        summary = llm(prompt)\n",
    "        summaries.append(summary.strip())\n",
    "    return \"\\n\\n\".join(summaries)\n",
    "\n",
    "compressed_context = compress_docs_with_llm(reranked_docs[:5], llm)\n"
   ]
  },
  {
   "cell_type": "markdown",
   "id": "6b5b8aa7-473b-4714-9851-18fbcd59d0cb",
   "metadata": {},
   "source": [
    "## RAG-Fusion (Query variants + Reciprocal Rank Fusion)"
   ]
  },
  {
   "cell_type": "code",
   "execution_count": null,
   "id": "ade2d691-8f9d-437d-8aa6-e089b3817c15",
   "metadata": {},
   "outputs": [],
   "source": [
    "from langchain.chains import LLMChain\n",
    "from langchain.prompts import PromptTemplate\n",
    "\n",
    "# Generate query variants\n",
    "query_variants = [\n",
    "    f\"{query}\",\n",
    "    f\"More specific: {query}\",\n",
    "    f\"Rephrase: What are details about {query}?\",\n",
    "]\n",
    "\n",
    "# Retrieve top results for each variant\n",
    "all_results = []\n",
    "for q in query_variants:\n",
    "    docs = vectorstore.similarity_search(q, k=10)\n",
    "    all_results.append(docs)\n",
    "\n",
    "# Reciprocal Rank Fusion\n",
    "from collections import defaultdict\n",
    "\n",
    "def rrf(docs_lists, k=60, alpha=60):\n",
    "    scores = defaultdict(float)\n",
    "    for docs in docs_lists:\n",
    "        for rank, doc in enumerate(docs):\n",
    "            scores[doc.page_content] += 1 / (alpha + rank)\n",
    "    ranked = sorted(scores.items(), key=lambda x: x[1], reverse=True)\n",
    "    return [Document(page_content=doc) for doc, _ in ranked[:k]]\n",
    "\n",
    "fused_docs = rrf(all_results)\n",
    "\n",
    "# Optional: re-rank fused docs again\n",
    "final_docs = rerank_with_llm(query, fused_docs, llm)\n"
   ]
  }
 ],
 "metadata": {
  "kernelspec": {
   "display_name": "Python 3 (ipykernel)",
   "language": "python",
   "name": "python3"
  },
  "language_info": {
   "codemirror_mode": {
    "name": "ipython",
    "version": 3
   },
   "file_extension": ".py",
   "mimetype": "text/x-python",
   "name": "python",
   "nbconvert_exporter": "python",
   "pygments_lexer": "ipython3",
   "version": "3.12.7"
  }
 },
 "nbformat": 4,
 "nbformat_minor": 5
}
