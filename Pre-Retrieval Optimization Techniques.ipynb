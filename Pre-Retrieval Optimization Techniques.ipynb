{
 "cells": [
  {
   "cell_type": "markdown",
   "id": "f8f7ee25-c12e-4172-a11c-d168f45fb42b",
   "metadata": {},
   "source": [
    "# Pre-Retrieval Optimization"
   ]
  },
  {
   "cell_type": "markdown",
   "id": "6bbf3a56-5a2f-4f95-80b6-3899b64f4892",
   "metadata": {},
   "source": [
    "## Better Chunking Strategies"
   ]
  },
  {
   "cell_type": "markdown",
   "id": "f0b28426-33b0-4715-85bd-7307ba9ca087",
   "metadata": {},
   "source": [
    "### Smaller Chunks for Embedding, Larger Chunks for Context"
   ]
  },
  {
   "cell_type": "code",
   "execution_count": null,
   "id": "6abd8854-93ed-43f2-8c86-ee84b5f59cc5",
   "metadata": {},
   "outputs": [],
   "source": [
    "pip install langchain nltk faiss-cpu tiktoken openai"
   ]
  },
  {
   "cell_type": "code",
   "execution_count": null,
   "id": "7053efeb-3c2d-451f-88e8-f4991f8c21b0",
   "metadata": {},
   "outputs": [],
   "source": [
    "import nltk\n",
    "nltk.download('punkt')"
   ]
  },
  {
   "cell_type": "code",
   "execution_count": 14,
   "id": "dcc511ba-f54d-4d3f-985a-c6b806cd5887",
   "metadata": {},
   "outputs": [],
   "source": [
    "from langchain.text_splitter import RecursiveCharacterTextSplitter\n",
    "\n",
    "# Step 1: Small chunks for embedding\n",
    "small_splitter = RecursiveCharacterTextSplitter(chunk_size=300, chunk_overlap=50)\n",
    "\n",
    "# Step 2: Larger chunks for context\n",
    "large_splitter = RecursiveCharacterTextSplitter(chunk_size=1200, chunk_overlap=100)\n",
    "\n",
    "# Step 3: Link small chunks to large ones\n",
    "def link_small_to_large_chunks(document_text):\n",
    "    small_chunks = small_splitter.split_text(document_text)\n",
    "    large_chunks = large_splitter.split_text(document_text)\n",
    "\n",
    "    linked_chunks = []\n",
    "    for small in small_chunks:\n",
    "        parent = next((large for large in large_chunks if small in large), None)\n",
    "        linked_chunks.append({\"chunk\": small, \"context\": parent or document_text})\n",
    "    \n",
    "    return linked_chunks\n"
   ]
  },
  {
   "cell_type": "markdown",
   "id": "6968257e-3117-4d2e-8155-8000f20b443a",
   "metadata": {},
   "source": [
    "### Hierarchical Chunking"
   ]
  },
  {
   "cell_type": "code",
   "execution_count": 17,
   "id": "af73ceba-be41-48c4-bc44-4abab40f26a9",
   "metadata": {},
   "outputs": [],
   "source": [
    "def hierarchical_chunking(document_text):\n",
    "    # Level 1: Paragraphs\n",
    "    paragraphs = document_text.split(\"\\n\\n\")\n",
    "\n",
    "    # Level 2: Sentences within paragraphs\n",
    "    sentence_chunks = []\n",
    "    for para in paragraphs:\n",
    "        sentences = nltk.sent_tokenize(para)\n",
    "        sentence_chunks.append(sentences)\n",
    "\n",
    "    # Level 3: Entire document\n",
    "    return {\n",
    "        \"document\": document_text,\n",
    "        \"paragraphs\": paragraphs,\n",
    "        \"sentence_chunks\": sentence_chunks,\n",
    "    }\n"
   ]
  },
  {
   "cell_type": "markdown",
   "id": "ec36e718-8c37-4b67-8b10-6b52ec4451b5",
   "metadata": {},
   "source": [
    "### Contextual Chunking"
   ]
  },
  {
   "cell_type": "code",
   "execution_count": 20,
   "id": "e34bd495-9339-4204-8c5a-94e0e8107ed6",
   "metadata": {},
   "outputs": [],
   "source": [
    "import re\n",
    "from typing import List\n",
    "\n",
    "def semantic_chunking(document_text: str, max_chunk_length=500) -> List[str]:\n",
    "    sentences = nltk.sent_tokenize(document_text)\n",
    "    chunks = []\n",
    "    current_chunk = \"\"\n",
    "\n",
    "    for sentence in sentences:\n",
    "        if len(current_chunk) + len(sentence) <= max_chunk_length:\n",
    "            current_chunk += \" \" + sentence\n",
    "        else:\n",
    "            chunks.append(current_chunk.strip())\n",
    "            current_chunk = sentence\n",
    "\n",
    "    if current_chunk:\n",
    "        chunks.append(current_chunk.strip())\n",
    "\n",
    "    return chunks\n"
   ]
  },
  {
   "cell_type": "code",
   "execution_count": null,
   "id": "f48ed215-aa50-4c0d-bdf9-5b96d1fa517f",
   "metadata": {},
   "outputs": [],
   "source": []
  }
 ],
 "metadata": {
  "kernelspec": {
   "display_name": "Python 3 (ipykernel)",
   "language": "python",
   "name": "python3"
  },
  "language_info": {
   "codemirror_mode": {
    "name": "ipython",
    "version": 3
   },
   "file_extension": ".py",
   "mimetype": "text/x-python",
   "name": "python",
   "nbconvert_exporter": "python",
   "pygments_lexer": "ipython3",
   "version": "3.12.7"
  }
 },
 "nbformat": 4,
 "nbformat_minor": 5
}
